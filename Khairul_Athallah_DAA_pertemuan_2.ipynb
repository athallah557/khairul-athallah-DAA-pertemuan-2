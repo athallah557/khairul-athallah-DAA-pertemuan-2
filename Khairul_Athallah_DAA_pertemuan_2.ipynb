{
  "nbformat": 4,
  "nbformat_minor": 0,
  "metadata": {
    "colab": {
      "provenance": [],
      "authorship_tag": "ABX9TyO6HXL5D70z91GU7vwz2A/D",
      "include_colab_link": true
    },
    "kernelspec": {
      "name": "python3",
      "display_name": "Python 3"
    },
    "language_info": {
      "name": "python"
    }
  },
  "cells": [
    {
      "cell_type": "markdown",
      "metadata": {
        "id": "view-in-github",
        "colab_type": "text"
      },
      "source": [
        "<a href=\"https://colab.research.google.com/github/athallah557/khairul-athallah-DAA-pertemuan-2/blob/main/Khairul_Athallah_DAA_pertemuan_2.ipynb\" target=\"_parent\"><img src=\"https://colab.research.google.com/assets/colab-badge.svg\" alt=\"Open In Colab\"/></a>"
      ]
    },
    {
      "cell_type": "code",
      "execution_count": 4,
      "metadata": {
        "colab": {
          "base_uri": "https://localhost:8080/"
        },
        "id": "Mx-Oz0mcLaog",
        "outputId": "feb986e6-049c-4ee5-b229-378f279632b8"
      },
      "outputs": [
        {
          "output_type": "stream",
          "name": "stdout",
          "text": [
            "[3, 9, 10, 27, 38, 43, 82]\n"
          ]
        }
      ],
      "source": [
        "def merge_sort(arr):\n",
        "    if len(arr) <= 1:\n",
        "        return arr\n",
        "\n",
        "    # Membagi array menjadi dua bagian\n",
        "    mid = len(arr) // 2\n",
        "    left = merge_sort(arr[:mid])\n",
        "    right = merge_sort(arr[mid:])\n",
        "\n",
        "    # Menggabungkan dua bagian yang sudah diurutkan\n",
        "    return merge(left, right)\n",
        "\n",
        "def merge(left, right):\n",
        "    sorted_array = []\n",
        "    i = j = 0\n",
        "\n",
        "    # Menggabungkan dua array dengan membandingkan elemen-elemen\n",
        "    while i < len(left) and j < len(right):\n",
        "        if left[i] < right[j]:\n",
        "            sorted_array.append(left[i])\n",
        "            i += 1\n",
        "        else:\n",
        "            sorted_array.append(right[j])\n",
        "            j += 1\n",
        "\n",
        "    # Menambahkan elemen-elemen yang tersisa\n",
        "    sorted_array.extend(left[i:])\n",
        "    sorted_array.extend(right[j:])\n",
        "\n",
        "    return sorted_array\n",
        "\n",
        "# Contoh penggunaan Merge Sort\n",
        "arr = [38, 27, 43, 3, 9, 82, 10]\n",
        "sorted_arr = merge_sort(arr)\n",
        "print(sorted_arr)\n"
      ]
    }
  ]
}